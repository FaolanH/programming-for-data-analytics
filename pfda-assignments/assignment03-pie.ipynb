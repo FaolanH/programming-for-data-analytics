{
 "cells": [
  {
   "cell_type": "markdown",
   "id": "538d0abc",
   "metadata": {},
   "source": [
    "Author: Faolán Hamilton"
   ]
  },
  {
   "cell_type": "markdown",
   "id": "3ff11b3c",
   "metadata": {},
   "source": [
    "# Brief"
   ]
  },
  {
   "cell_type": "markdown",
   "id": "2dd762e1",
   "metadata": {},
   "source": [
    "The note book should have a nice pie chart of peoples email domains in the csv file at the url\n",
    "\n",
    "https://drive.google.com/uc?id=1AWPf-pJodJKeHsARQK_RHiNsE8fjPCVK&export=download\n",
    "\n",
    "This csv file has 1000 people. You may download the data or link to it."
   ]
  },
  {
   "cell_type": "markdown",
   "id": "ac11ae6d",
   "metadata": {},
   "source": []
  }
 ],
 "metadata": {
  "language_info": {
   "name": "python"
  }
 },
 "nbformat": 4,
 "nbformat_minor": 5
}
