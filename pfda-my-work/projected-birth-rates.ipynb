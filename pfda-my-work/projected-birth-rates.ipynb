{
 "cells": [
  {
   "cell_type": "code",
   "execution_count": null,
   "id": "60e2986b",
   "metadata": {
    "vscode": {
     "languageId": "plaintext"
    }
   },
   "outputs": [],
   "source": [
    "#Author: Faolán Hamilton\n",
    "\n",
    "#Projected Birth Rates based on CSO data\n",
    "\n",
    "pbr = pd.read.csv(https://github.com/andrewbeattycourseware/PFDA-courseware/blob/main/code/data/projectedbirths-cso.csv)\n",
    "\n",
    "print (pbr)"
   ]
  },
  {
   "cell_type": "code",
   "execution_count": null,
   "id": "6695d2b4",
   "metadata": {
    "vscode": {
     "languageId": "plaintext"
    }
   },
   "outputs": [],
   "source": []
  }
 ],
 "metadata": {
  "language_info": {
   "name": "python"
  }
 },
 "nbformat": 4,
 "nbformat_minor": 5
}
