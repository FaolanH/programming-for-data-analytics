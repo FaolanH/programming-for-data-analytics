{
 "cells": [
  {
   "cell_type": "code",
   "execution_count": null,
   "id": "60e2986b",
   "metadata": {
    "vscode": {
     "languageId": "plaintext"
    }
   },
   "outputs": [],
   "source": [
    "#Author: Faolán Hamilton\n",
    "\n",
    "#Projected Birth Rates based on CSO data"
   ]
  }
 ],
 "metadata": {
  "language_info": {
   "name": "python"
  }
 },
 "nbformat": 4,
 "nbformat_minor": 5
}
